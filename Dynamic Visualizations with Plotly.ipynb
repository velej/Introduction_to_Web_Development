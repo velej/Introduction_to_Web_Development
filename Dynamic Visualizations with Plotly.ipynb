{
 "cells": [
  {
   "cell_type": "code",
   "execution_count": 1,
   "metadata": {},
   "outputs": [],
   "source": [
    "import pandas as pd\n",
    "import numpy as np\n",
    "import matplotlib.pyplot as plt"
   ]
  },
  {
   "cell_type": "code",
   "execution_count": 2,
   "metadata": {},
   "outputs": [],
   "source": [
    "#Setting up Plotly\n",
    "import plotly\n",
    "plotly.tools.set_credentials_file(username='velej', api_key='4zGYqZ7w9NBJilKZ3Pnf')"
   ]
  },
  {
   "cell_type": "markdown",
   "metadata": {},
   "source": [
    "# Label Columns Keys or Values\n",
    "\n",
    "Date and symbol combined are keys because they are independent from the other quantitative variables: open, close, low, high and volume. However, to uniquely identify a value  you need to use both date and symbol, as they act as an index. Because the quantitative information is dependent, they can be thought of as value attributes."
   ]
  },
  {
   "cell_type": "code",
   "execution_count": 3,
   "metadata": {},
   "outputs": [
    {
     "data": {
      "text/html": [
       "<div>\n",
       "<style scoped>\n",
       "    .dataframe tbody tr th:only-of-type {\n",
       "        vertical-align: middle;\n",
       "    }\n",
       "\n",
       "    .dataframe tbody tr th {\n",
       "        vertical-align: top;\n",
       "    }\n",
       "\n",
       "    .dataframe thead th {\n",
       "        text-align: right;\n",
       "    }\n",
       "</style>\n",
       "<table border=\"1\" class=\"dataframe\">\n",
       "  <thead>\n",
       "    <tr style=\"text-align: right;\">\n",
       "      <th></th>\n",
       "      <th>date</th>\n",
       "      <th>symbol</th>\n",
       "      <th>open</th>\n",
       "      <th>close</th>\n",
       "      <th>low</th>\n",
       "      <th>high</th>\n",
       "      <th>volume</th>\n",
       "    </tr>\n",
       "  </thead>\n",
       "  <tbody>\n",
       "    <tr>\n",
       "      <th>851259</th>\n",
       "      <td>2016-12-30</td>\n",
       "      <td>ZBH</td>\n",
       "      <td>103.309998</td>\n",
       "      <td>103.199997</td>\n",
       "      <td>102.849998</td>\n",
       "      <td>103.930000</td>\n",
       "      <td>973800.0</td>\n",
       "    </tr>\n",
       "    <tr>\n",
       "      <th>851260</th>\n",
       "      <td>2016-12-30</td>\n",
       "      <td>ZION</td>\n",
       "      <td>43.070000</td>\n",
       "      <td>43.040001</td>\n",
       "      <td>42.689999</td>\n",
       "      <td>43.310001</td>\n",
       "      <td>1938100.0</td>\n",
       "    </tr>\n",
       "    <tr>\n",
       "      <th>851261</th>\n",
       "      <td>2016-12-30</td>\n",
       "      <td>ZTS</td>\n",
       "      <td>53.639999</td>\n",
       "      <td>53.529999</td>\n",
       "      <td>53.270000</td>\n",
       "      <td>53.740002</td>\n",
       "      <td>1701200.0</td>\n",
       "    </tr>\n",
       "    <tr>\n",
       "      <th>851262</th>\n",
       "      <td>2016-12-30 00:00:00</td>\n",
       "      <td>AIV</td>\n",
       "      <td>44.730000</td>\n",
       "      <td>45.450001</td>\n",
       "      <td>44.410000</td>\n",
       "      <td>45.590000</td>\n",
       "      <td>1380900.0</td>\n",
       "    </tr>\n",
       "    <tr>\n",
       "      <th>851263</th>\n",
       "      <td>2016-12-30 00:00:00</td>\n",
       "      <td>FTV</td>\n",
       "      <td>54.200001</td>\n",
       "      <td>53.630001</td>\n",
       "      <td>53.389999</td>\n",
       "      <td>54.480000</td>\n",
       "      <td>705100.0</td>\n",
       "    </tr>\n",
       "  </tbody>\n",
       "</table>\n",
       "</div>"
      ],
      "text/plain": [
       "                       date symbol        open       close         low  \\\n",
       "851259           2016-12-30    ZBH  103.309998  103.199997  102.849998   \n",
       "851260           2016-12-30   ZION   43.070000   43.040001   42.689999   \n",
       "851261           2016-12-30    ZTS   53.639999   53.529999   53.270000   \n",
       "851262  2016-12-30 00:00:00    AIV   44.730000   45.450001   44.410000   \n",
       "851263  2016-12-30 00:00:00    FTV   54.200001   53.630001   53.389999   \n",
       "\n",
       "              high     volume  \n",
       "851259  103.930000   973800.0  \n",
       "851260   43.310001  1938100.0  \n",
       "851261   53.740002  1701200.0  \n",
       "851262   45.590000  1380900.0  \n",
       "851263   54.480000   705100.0  "
      ]
     },
     "execution_count": 3,
     "metadata": {},
     "output_type": "execute_result"
    }
   ],
   "source": [
    "#import NYSE information\n",
    "data = pd.read_csv('/Users/JosephVele/Downloads/nyse/prices.csv')\n",
    "\n",
    "#verify information has been loaded correctly\n",
    "data.tail()"
   ]
  },
  {
   "cell_type": "markdown",
   "metadata": {},
   "source": [
    "# Task\n",
    "\n",
    "A user may be interested in verifying that the top companies as  of 2016-12-30 all followed a similar trends over the years in terms of price .From a high level, this task would fall under consumption, and since, we are trying to verify a hypothesis it would be categorized as discovery. In terms of search, the location is known but the target is not. From a low level, we want to compare targets."
   ]
  },
  {
   "cell_type": "code",
   "execution_count": 4,
   "metadata": {},
   "outputs": [
    {
     "data": {
      "text/html": [
       "<iframe id=\"igraph\" scrolling=\"no\" style=\"border:none;\" seamless=\"seamless\" src=\"https://plot.ly/~velej/12.embed\" height=\"525px\" width=\"100%\"></iframe>"
      ],
      "text/plain": [
       "<plotly.tools.PlotlyDisplay object>"
      ]
     },
     "execution_count": 4,
     "metadata": {},
     "output_type": "execute_result"
    }
   ],
   "source": [
    "import plotly.graph_objs as go\n",
    "import plotly.plotly as py\n",
    "\n",
    "# Filter for top 5 companies (keys) as of 12-31-2016\n",
    "top_5 = data[data.date =='2016-12-30'].nlargest(5,'close').symbol.values\n",
    "#Establish colors for encoding symbol attribute\n",
    "c = ['r','b', 'g','m', 'y']\n",
    "data['date'] = data['date'].astype('datetime64[ns]')\n",
    "\n",
    "trace = [ ]\n",
    "c = ['red','blue', 'green','magenta', 'gold']\n",
    "for i in range(len(top_5)):\n",
    "    trace_i = go.Scatter(\n",
    "        x = data[data['symbol']==top_5[i]]['date'],\n",
    "        y = data[data['symbol']==top_5[i]]['close'],\n",
    "        name = top_5[i],\n",
    "        marker = dict(color = c[i]))\n",
    "    trace.append(trace_i)\n",
    "\n",
    "plotly_data = trace\n",
    "\n",
    "layout= go.Layout(\n",
    "    title= 'Closing Prices for Top Companies ',\n",
    "    hovermode= 'closest',\n",
    "    showlegend= True, \n",
    "    xaxis= dict(\n",
    "        title= 'Date',\n",
    "        ticklen= 5,\n",
    "        zeroline= False,\n",
    "        gridwidth= 2,\n",
    "        hoverformat = '%x'\n",
    "    ),\n",
    "    yaxis=dict(\n",
    "        title= 'Closing Prices',\n",
    "        ticklen= 5,\n",
    "        gridwidth= 2,\n",
    "    )\n",
    ")\n",
    "fig= go.Figure(data=plotly_data, layout=layout)\n",
    "py.iplot(fig, filename = 'line')\n"
   ]
  },
  {
   "cell_type": "markdown",
   "metadata": {},
   "source": [
    "## Line Plot - Interactive Plot 1 \n",
    "\n",
    "In the below plot, we encode two quantitative variables using the horizontal and spatial position. Per slide 17 in the Visual Encoding Presentation, this aligns with the task as it can be used to analyze trends, correlations, and distributions. Although, the line graph is typically used for one key (slide 18) , we can consider that we have one key for each color channel. The colors have also been chosen to be distinct. \"In the design of color codes, the two primary considerations must be visual distinctness, to support visual search operations, and learnability, so that particular colors come to “stand for” particular entities. (Ware, Colin. Visual Thinking: for Design (Morgan Kaufmann Series in Interactive Technologies) (p. 77)). One thing I immediately noticed was the correlation between GOOG and GOOGL , but this is expected since it was the result of stock split. However, the correlation between autozone and amazon was pretty interesting. Using the interactive plot below, the user can look at a per record basis and specifically zoom in on specific dates. We have also limited the number of companies shown as to not overwhelm the user (VAD pg 45) and address the main task. Also, the user can limit clutter by removing some of the companies, which can be very useful for direct comparisons."
   ]
  },
  {
   "cell_type": "code",
   "execution_count": 5,
   "metadata": {},
   "outputs": [
    {
     "data": {
      "text/html": [
       "<iframe id=\"igraph\" scrolling=\"no\" style=\"border:none;\" seamless=\"seamless\" src=\"https://plot.ly/~velej/20.embed\" height=\"525px\" width=\"100%\"></iframe>"
      ],
      "text/plain": [
       "<plotly.tools.PlotlyDisplay object>"
      ]
     },
     "execution_count": 5,
     "metadata": {},
     "output_type": "execute_result"
    }
   ],
   "source": [
    "import plotly.plotly as py\n",
    "import plotly.graph_objs as go\n",
    "\n",
    "top_20 = data[data.date =='2016-12-30'].nlargest(20,'close').symbol.values\n",
    "   \n",
    "trace = go.Heatmap(z = data[data.symbol.isin(top_20)].close,\n",
    "                   x = data[data.symbol.isin(top_20)].date,\n",
    "                   y = data[data.symbol.isin(top_20)].symbol,\n",
    "                   colorscale = 'Viridis')\n",
    "\n",
    "layout= go.Layout(\n",
    "    title= ' HeatMap of Stock Prices over Time ',\n",
    "    hovermode= 'closest',\n",
    "    showlegend= True, \n",
    "    xaxis= dict(\n",
    "        title= 'Date',\n",
    "        ticklen= 5,\n",
    "        zeroline= False,\n",
    "        gridwidth= 2,\n",
    "        hoverformat = '%x'\n",
    "    ),\n",
    "    yaxis=dict(\n",
    "        title= 'Stock Symbol',\n",
    "        ticklen= 5,\n",
    "        gridwidth= 2,\n",
    "    )\n",
    ")\n",
    "plotly_data=[trace]\n",
    "fig= go.Figure(data=plotly_data, layout=layout)\n",
    "py.iplot(fig, filename = 'heat')"
   ]
  },
  {
   "cell_type": "markdown",
   "metadata": {},
   "source": [
    "## Heat Map - Interactive Plot 2\n",
    "\n",
    "For this plot, I leveraged a recommendation from the Visual Encodings presentations in slide 16. Because there are two keys I implemented a heat map. The previous plot dealt with the issue of having a large number of categorical variables and a limited number of distinct colors. This plot acts as a solution but with a trade off. Visualizing a trend for a single symbol is not easy, but there is more information. One thing that immediately pops out is that a majority of the companies don't seem to be over 400 in closing price and that after the top 5, there is quite a drop. The interactivity chosen for this plot is similar to the previous, as it encompasses a large amount of usefulness for any user. They have the ability to hover and look at the date and close price for a given stock price. This is at an item level (VAD p. 23). The zoom-in capability also allows the user to explore any trend. For example, the user can hold the cursor over 2015 - 2016 to narrow down the dates. "
   ]
  }
 ],
 "metadata": {
  "kernelspec": {
   "display_name": "Python 3",
   "language": "python",
   "name": "python3"
  },
  "language_info": {
   "codemirror_mode": {
    "name": "ipython",
    "version": 3
   },
   "file_extension": ".py",
   "mimetype": "text/x-python",
   "name": "python",
   "nbconvert_exporter": "python",
   "pygments_lexer": "ipython3",
   "version": "3.6.4"
  }
 },
 "nbformat": 4,
 "nbformat_minor": 2
}
